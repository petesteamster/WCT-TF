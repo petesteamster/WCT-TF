{
 "cells": [
  {
   "cell_type": "code",
   "execution_count": null,
   "metadata": {},
   "outputs": [
    {
     "name": "stdout",
     "output_type": "stream",
     "text": [
      "--2019-06-03 13:37:46--  https://www.dropbox.com/s/ssg39coiih5hjzz/models.zip?dl=1\n",
      "Resolving www.dropbox.com (www.dropbox.com)... 162.125.4.1\n",
      "Connecting to www.dropbox.com (www.dropbox.com)|162.125.4.1|:443... connected.\n",
      "HTTP request sent, awaiting response... 301 Moved Permanently\n",
      "Location: /s/dl/ssg39coiih5hjzz/models.zip [following]\n",
      "--2019-06-03 13:37:46--  https://www.dropbox.com/s/dl/ssg39coiih5hjzz/models.zip\n",
      "Reusing existing connection to www.dropbox.com:443.\n",
      "HTTP request sent, awaiting response... 302 Found\n",
      "Location: https://uc2d530516509345b93b53e26a2a.dl.dropboxusercontent.com/cd/0/get/AiLPPJNM_74h8gLpSxiEOp2KcouLocpjUaSdn2TnzFoAOllcoAPqfqDryXwZT5llzv8Gv7HR5JJwUZqhh_WWOGuxePP5VRUQXRdQxWTLkHMYXA/file?dl=1# [following]\n",
      "--2019-06-03 13:37:47--  https://uc2d530516509345b93b53e26a2a.dl.dropboxusercontent.com/cd/0/get/AiLPPJNM_74h8gLpSxiEOp2KcouLocpjUaSdn2TnzFoAOllcoAPqfqDryXwZT5llzv8Gv7HR5JJwUZqhh_WWOGuxePP5VRUQXRdQxWTLkHMYXA/file?dl=1\n",
      "Resolving uc2d530516509345b93b53e26a2a.dl.dropboxusercontent.com (uc2d530516509345b93b53e26a2a.dl.dropboxusercontent.com)... 162.125.4.6\n",
      "Connecting to uc2d530516509345b93b53e26a2a.dl.dropboxusercontent.com (uc2d530516509345b93b53e26a2a.dl.dropboxusercontent.com)|162.125.4.6|:443... connected.\n",
      "HTTP request sent, awaiting response... 200 OK\n",
      "Length: 492852192 (470M) [application/binary]\n",
      "Saving to: ‘models.zip’\n",
      "\n",
      "models.zip           93%[=================>  ] 439.23M  3.58MB/s    eta 8s     "
     ]
    }
   ],
   "source": [
    "!bash models/download_models.sh"
   ]
  }
 ],
 "metadata": {
  "kernelspec": {
   "display_name": "Python 3",
   "language": "python",
   "name": "python3"
  },
  "language_info": {
   "codemirror_mode": {
    "name": "ipython",
    "version": 3
   },
   "file_extension": ".py",
   "mimetype": "text/x-python",
   "name": "python",
   "nbconvert_exporter": "python",
   "pygments_lexer": "ipython3",
   "version": "3.6.6"
  }
 },
 "nbformat": 4,
 "nbformat_minor": 2
}
