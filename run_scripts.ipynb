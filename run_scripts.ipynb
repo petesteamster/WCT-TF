{
 "cells": [
  {
   "cell_type": "code",
   "execution_count": 1,
   "metadata": {},
   "outputs": [
    {
     "name": "stdout",
     "output_type": "stream",
     "text": [
      "--2019-06-03 13:37:46--  https://www.dropbox.com/s/ssg39coiih5hjzz/models.zip?dl=1\n",
      "Resolving www.dropbox.com (www.dropbox.com)... 162.125.4.1\n",
      "Connecting to www.dropbox.com (www.dropbox.com)|162.125.4.1|:443... connected.\n",
      "HTTP request sent, awaiting response... 301 Moved Permanently\n",
      "Location: /s/dl/ssg39coiih5hjzz/models.zip [following]\n",
      "--2019-06-03 13:37:46--  https://www.dropbox.com/s/dl/ssg39coiih5hjzz/models.zip\n",
      "Reusing existing connection to www.dropbox.com:443.\n",
      "HTTP request sent, awaiting response... 302 Found\n",
      "Location: https://uc2d530516509345b93b53e26a2a.dl.dropboxusercontent.com/cd/0/get/AiLPPJNM_74h8gLpSxiEOp2KcouLocpjUaSdn2TnzFoAOllcoAPqfqDryXwZT5llzv8Gv7HR5JJwUZqhh_WWOGuxePP5VRUQXRdQxWTLkHMYXA/file?dl=1# [following]\n",
      "--2019-06-03 13:37:47--  https://uc2d530516509345b93b53e26a2a.dl.dropboxusercontent.com/cd/0/get/AiLPPJNM_74h8gLpSxiEOp2KcouLocpjUaSdn2TnzFoAOllcoAPqfqDryXwZT5llzv8Gv7HR5JJwUZqhh_WWOGuxePP5VRUQXRdQxWTLkHMYXA/file?dl=1\n",
      "Resolving uc2d530516509345b93b53e26a2a.dl.dropboxusercontent.com (uc2d530516509345b93b53e26a2a.dl.dropboxusercontent.com)... 162.125.4.6\n",
      "Connecting to uc2d530516509345b93b53e26a2a.dl.dropboxusercontent.com (uc2d530516509345b93b53e26a2a.dl.dropboxusercontent.com)|162.125.4.6|:443... connected.\n",
      "HTTP request sent, awaiting response... 200 OK\n",
      "Length: 492852192 (470M) [application/binary]\n",
      "Saving to: ‘models.zip’\n",
      "\n",
      "models.zip          100%[===================>] 470.02M  4.01MB/s    in 2m 0s   \n",
      "\n",
      "2019-06-03 13:39:47 (3.92 MB/s) - ‘models.zip’ saved [492852192/492852192]\n",
      "\n",
      "Archive:  models.zip\n",
      "   creating: relu3_1/\n",
      "  inflating: relu3_1/model.ckpt-15003.data-00000-of-00001  \n",
      "  inflating: relu3_1/model.ckpt-15003.index  \n",
      "  inflating: relu3_1/checkpoint      \n",
      "  inflating: relu3_1/model.ckpt-15003.meta  \n",
      "   creating: relu1_1/\n",
      "  inflating: relu1_1/model.ckpt-15002.index  \n",
      "  inflating: relu1_1/model.ckpt-15002.meta  \n",
      "  inflating: relu1_1/checkpoint      \n",
      "  inflating: relu1_1/model.ckpt-15002.data-00000-of-00001  \n",
      "   creating: relu2_1/\n",
      "  inflating: relu2_1/model.ckpt-15000.index  \n",
      "  inflating: relu2_1/model.ckpt-15000.meta  \n",
      "  inflating: relu2_1/model.ckpt-15000.data-00000-of-00001  \n",
      "  inflating: relu2_1/checkpoint      \n",
      "   creating: relu5_1/\n",
      "  inflating: relu5_1/model.ckpt-15004.index  \n",
      "  inflating: relu5_1/model.ckpt-15004.meta  \n",
      "  inflating: relu5_1/checkpoint      \n",
      "  inflating: relu5_1/model.ckpt-15004.data-00000-of-00001  \n",
      "   creating: relu4_1/\n",
      "  inflating: relu4_1/model.ckpt-15003.data-00000-of-00001  \n",
      "  inflating: relu4_1/model.ckpt-15003.index  \n",
      "  inflating: relu4_1/checkpoint      \n",
      "  inflating: relu4_1/model.ckpt-15003.meta  \n"
     ]
    }
   ],
   "source": [
    "!bash models/download_models.sh"
   ]
  },
  {
   "cell_type": "code",
   "execution_count": 2,
   "metadata": {},
   "outputs": [
    {
     "name": "stdout",
     "output_type": "stream",
     "text": [
      "--2019-06-03 13:42:15--  https://www.dropbox.com/s/kh8izr3fkvhitfn/vgg_normalised.t7?dl=1\n",
      "Resolving www.dropbox.com (www.dropbox.com)... 162.125.4.1\n",
      "Connecting to www.dropbox.com (www.dropbox.com)|162.125.4.1|:443... connected.\n",
      "HTTP request sent, awaiting response... 301 Moved Permanently\n",
      "Location: /s/dl/kh8izr3fkvhitfn/vgg_normalised.t7 [following]\n",
      "--2019-06-03 13:42:15--  https://www.dropbox.com/s/dl/kh8izr3fkvhitfn/vgg_normalised.t7\n",
      "Reusing existing connection to www.dropbox.com:443.\n",
      "HTTP request sent, awaiting response... 302 Found\n",
      "Location: https://ucb9876712193003552f0ebb2f82.dl.dropboxusercontent.com/cd/0/get/AiJMH_IDbBT84Ew-vsmGiVKWm-YufmBS1NxxkMr1L0g53TwduCjA7Ir4z2RFd3NmJyHrn-V-izQvbbrxYzAWM68Cic4-NWA-sl_sNDH7dF-Eog/file?dl=1# [following]\n",
      "--2019-06-03 13:42:15--  https://ucb9876712193003552f0ebb2f82.dl.dropboxusercontent.com/cd/0/get/AiJMH_IDbBT84Ew-vsmGiVKWm-YufmBS1NxxkMr1L0g53TwduCjA7Ir4z2RFd3NmJyHrn-V-izQvbbrxYzAWM68Cic4-NWA-sl_sNDH7dF-Eog/file?dl=1\n",
      "Resolving ucb9876712193003552f0ebb2f82.dl.dropboxusercontent.com (ucb9876712193003552f0ebb2f82.dl.dropboxusercontent.com)... 162.125.4.6\n",
      "Connecting to ucb9876712193003552f0ebb2f82.dl.dropboxusercontent.com (ucb9876712193003552f0ebb2f82.dl.dropboxusercontent.com)|162.125.4.6|:443... connected.\n",
      "HTTP request sent, awaiting response... 200 OK\n",
      "Length: 160221189 (153M) [application/binary]\n",
      "Saving to: ‘vgg_normalised.t7’\n",
      "\n",
      "vgg_normalised.t7   100%[===================>] 152.80M  5.03MB/s    in 42s     \n",
      "\n",
      "2019-06-03 13:42:58 (3.63 MB/s) - ‘vgg_normalised.t7’ saved [160221189/160221189]\n",
      "\n"
     ]
    }
   ],
   "source": [
    "!bash models/download_vgg.sh"
   ]
  }
 ],
 "metadata": {
  "kernelspec": {
   "display_name": "Python 3",
   "language": "python",
   "name": "python3"
  },
  "language_info": {
   "codemirror_mode": {
    "name": "ipython",
    "version": 3
   },
   "file_extension": ".py",
   "mimetype": "text/x-python",
   "name": "python",
   "nbconvert_exporter": "python",
   "pygments_lexer": "ipython3",
   "version": "3.6.6"
  }
 },
 "nbformat": 4,
 "nbformat_minor": 2
}
